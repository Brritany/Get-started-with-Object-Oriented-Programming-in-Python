{
  "nbformat": 4,
  "nbformat_minor": 0,
  "metadata": {
    "colab": {
      "name": "Python物件導向程式開發.ipynb",
      "provenance": [],
      "collapsed_sections": [],
      "toc_visible": true,
      "authorship_tag": "ABX9TyPfpxcnSgMQ8RPHKA2+iGcZ",
      "include_colab_link": true
    },
    "kernelspec": {
      "name": "python3",
      "display_name": "Python 3"
    },
    "language_info": {
      "name": "python"
    }
  },
  "cells": [
    {
      "cell_type": "markdown",
      "metadata": {
        "id": "view-in-github",
        "colab_type": "text"
      },
      "source": [
        "<a href=\"https://colab.research.google.com/github/Brritany/Get-started-with-Object-Oriented-Programming-in-Python/blob/main/Python%E7%89%A9%E4%BB%B6%E5%B0%8E%E5%90%91%E7%A8%8B%E5%BC%8F%E9%96%8B%E7%99%BC.ipynb\" target=\"_parent\"><img src=\"https://colab.research.google.com/assets/colab-badge.svg\" alt=\"Open In Colab\"/></a>"
      ]
    },
    {
      "cell_type": "markdown",
      "source": [
        "# Python物件導向程式開發\n",
        "# Get-started-with-Object-Oriented-Programming-in-Python\n",
        "___\n",
        "## Author\n",
        "> __Yong-Zhen, Huang__  \n",
        "lindavid841130@gmail.com  \n",
        "create on July 2022\n",
        "\n",
        "___\n"
      ],
      "metadata": {
        "id": "G13mbAhclqwE"
      }
    },
    {
      "cell_type": "markdown",
      "source": [
        "# 一、物件和類別\n",
        "  1. 類別(Class)\n",
        "    * `class 自定義名稱():`\n",
        "    * 命名原則：每個單字字首大寫，不可使用空白或底線分隔單字。\n",
        "  2. 物件(Object)\n",
        "    * 透過類別(Class)實際建立的物件(Object)。\n",
        "  3. 屬性(Attribute)\n",
        "    * 負責存放物件(Object)的資料。\n",
        "    * `object_name.attribute_name = value`\n",
        "  4. 建構式(Constructor)\n",
        "    * `__int__`，無論前方有多少程式碼,一律先執行建構式。\n",
        "    * 至少要有一個self參數，之後利用逗號區隔其他屬性。\n",
        "    * self = 物件本身\n",
        "  5. 方法(Method)\n",
        "    * `def method_name(self):`\n",
        "  \n"
      ],
      "metadata": {
        "id": "1hvhpFVtlikp"
      }
    },
    {
      "cell_type": "markdown",
      "source": [
        "## 範例1\n",
        "  * 類別(Class) & 物件(Object) & 屬性(Attribute) & 建構式(Constructor) & 方法(Method)\n",
        "  * 使用`isinstance`來判斷類別(Class)與物件(Object)的關係"
      ],
      "metadata": {
        "id": "7rmIUXeFyG2r"
      }
    },
    {
      "cell_type": "code",
      "source": [
        "# 建立類別(Class)\n",
        "class Electriccar:\n",
        "  # 建構式(Constructor)\n",
        "  def __init__(self, price, fuel):\n",
        "        # 建立物件屬性(Attribute)\n",
        "        self.price = price  # 屬性_價錢\n",
        "        self.fuel = fuel   # 屬性_燃料\n",
        "  # 方法(Method)\n",
        "  def drive(self):\n",
        "        print(\"This car uses an {} as fuel, and the price is {} New Taiwan dollars\".format(self.fuel, self.price))\n",
        "\n",
        "class Traditionalcars():\n",
        "  def __init__(self, price, fuel):\n",
        "        self.price = price\n",
        "        self.fuel = fuel\n",
        "  def drive(self):\n",
        "        print(\"This car uses an {} as fuel, and the price is {} New Taiwan dollars\".format(self.fuel, self.price))\n",
        "\n",
        "# 建立物件(Object)與代入物件屬性(Attribute)\n",
        "BMW_F40 = Traditionalcars(1610000, \"gasoline\")\n",
        "TSLA_model3 = Electriccar(2500000, \"electricity\")\n",
        "\n",
        "BMW_F40.drive()   # This car uses an gasoline as fuel, and the price is 1610000 New Taiwan dollars\n",
        "TSLA_model3.drive() # This car uses an electricity as fuel, and the price is 2500000 New Taiwan dollars\n",
        "\n",
        "# isinstance可用於判斷類別(Class)與物件(Object)的關係\n",
        "print(isinstance(BMW_F40, Traditionalcars))     # True\n",
        "print(isinstance(BMW_F40, Electriccar))       # False"
      ],
      "metadata": {
        "id": "ykEQ76hpymR1"
      },
      "execution_count": null,
      "outputs": []
    },
    {
      "cell_type": "markdown",
      "source": [
        "## 範例2"
      ],
      "metadata": {
        "id": "Ak6nz_TDvYyj"
      }
    },
    {
      "cell_type": "code",
      "source": [
        "# 定義類別\n",
        "class Person():\n",
        "  def __init__(self, name, age):\n",
        "    self.name = name\n",
        "    self.age = age\n",
        "\n",
        "# 建立物件\n",
        "person1 = Person('david', 26)\n",
        "print(person1.name, person1.age)\n",
        "\n",
        "# 改變物件內容\n",
        "person2 = Person('Tom', 13)\n",
        "print(person2.name, person2.age)"
      ],
      "metadata": {
        "id": "3iYaMZf8vlO6"
      },
      "execution_count": null,
      "outputs": []
    },
    {
      "cell_type": "markdown",
      "source": [
        "# 二、參數預設值"
      ],
      "metadata": {
        "id": "xFynHycOx4-g"
      }
    },
    {
      "cell_type": "code",
      "source": [
        "class Person():\n",
        "  def __init__(self, name = '小明', age = 12): #設定預設值\n",
        "    self.name = name\n",
        "    self.age = age\n",
        "  def hello(self):\n",
        "    print('Hello', self.name)\n",
        "\n",
        "# 建立物件\n",
        "person1 = Person('David')       #未設定年齡\n",
        "print(person1.name, person1.age)    #若無設定值，則直接代入預設值\n",
        "person1.hello()"
      ],
      "metadata": {
        "id": "a90eI4bOx8Tj"
      },
      "execution_count": null,
      "outputs": []
    },
    {
      "cell_type": "markdown",
      "source": [
        "## 習題1 建立class來求面積 & 體積\n",
        "  * 長方形為長5公分，寬6公分，高7公分\n",
        "  * 三角形為底10公分，高7公分\n"
      ],
      "metadata": {
        "id": "3BZCbp2D-Na5"
      }
    },
    {
      "cell_type": "code",
      "source": [
        "class Rectangle():\n",
        "  def __init__(self, length = 0, width = 0, height = 0):\n",
        "    self.length = length\n",
        "    self.width = width\n",
        "    self.height = height\n",
        "  def rectangle_area(self):\n",
        "    return self.length * self.width\n",
        "  def rectangle_volume(self):\n",
        "    return self.length * self.width * self.height\n",
        "  def triangle_area(self):\n",
        "    return (self.length * self.width)/2\n",
        "\n",
        "rec = Rectangle(5, 6, 7)\n",
        "print('長方形面積為',rec.rectangle_area())\n",
        "print('長方形體積為',rec.rectangle_volume())\n",
        "\n",
        "tri = Rectangle(10, 7)\n",
        "print('三角形面積為',int(tri.triangle_area()))    #轉換float to int"
      ],
      "metadata": {
        "id": "BUPSzOr5-V2C"
      },
      "execution_count": null,
      "outputs": []
    },
    {
      "cell_type": "markdown",
      "source": [
        "# 三、封裝(Encapsulation)\n",
        "  * 保護**類別(class)**中重要的代碼不被外部調用，用於防止外部不當存取類別中的**屬性(Attribute)**及**方法(Method)**，進而導致程式執行上的錯誤。\n",
        "  * 類似於電腦中系統管理員的概念(權限控制)。\n",
        "  * 方法：\n",
        "    * 在屬性(Attribute)或方法(Method)前，加上2個底線(__)  \n",
        "    ```\n",
        "    self.__屬性名稱/方法\n",
        "    ```\n",
        "  * 查詢：\n",
        "    * 查看類別中的屬性(Attribute)\n",
        "  ```\n",
        "  __dict__屬性名稱\n",
        "  ```\n",
        "    * 看類別中的方法(Method)\n",
        "    ```\n",
        "    類別名稱__方法名稱\n",
        "    ```"
      ],
      "metadata": {
        "id": "rH-BxH68uTc_"
      }
    },
    {
      "cell_type": "code",
      "source": [
        "class Person():\n",
        "  def __init__(self, name, age):\n",
        "    self.__name = name\n",
        "    self.age = age\n",
        "  def __hello(self):\n",
        "    print(self.__name + '說哈囉')\n",
        "  def talk(self):\n",
        "    self.__hello()\n",
        "    print('也喜歡Python')\n",
        "\n",
        "person1 = Person('David', 30)\n",
        "# person1.__hello() # 'Person' object has no attribute '__hello'\n",
        "            # 僅內部可以使用，外部無法使用。\n"
      ],
      "metadata": {
        "id": "U9uERb-51aWj"
      },
      "execution_count": null,
      "outputs": []
    },
    {
      "cell_type": "markdown",
      "source": [
        "# 四、繼承(Inheritance)\n",
        "  * 將主類別(Class)中的屬性(attribute)或方法(method)，分給其他類別(Class)做使用，有助於降低代碼的重複性。\n",
        "  * 實際開發應用程式時，隨著類別(Class)的持續變多，各類別(Class)中，可以會擁有一些相同的屬性(Attribute)或方法(Method)，此時即可使用繼承方式。\n",
        "  * 提高我們程式碼的重用性(reusable)及降低維護成本。\n",
        "  * 繼承的類別(Class)仍可自定義自己的屬性及方法。\n"
      ],
      "metadata": {
        "id": "y0jK9QEog5nk"
      }
    },
    {
      "cell_type": "markdown",
      "source": [
        "## 一般繼承(Inheritance)"
      ],
      "metadata": {
        "id": "OhuMtSOi4e29"
      }
    },
    {
      "cell_type": "code",
      "source": [
        "# 汽車工具(基底類別)\n",
        "class Basic:\n",
        "  # 建構式(Constructor)\n",
        "  def __init__(self, price = 0):\n",
        "    # 建立物件屬性(Attribute)\n",
        "    self.price = price  # 屬性_價錢\n",
        "  # 方法(Method)\n",
        "  def drive(self):\n",
        "    print(\"This car is four wheel drive\")\n",
        "\n",
        "# 油車子類別，繼承交通工具(基底類別)\n",
        "class Tcar(Basic):\n",
        "    # 燃料方法\n",
        "    def fuel(self):\n",
        "      print(\"This car uses gasoline\")\n",
        "\n",
        "# 電動車子類別，，繼承交通工具(基底類別)\n",
        "class Ecar(Basic):\n",
        "    # 燃料方法\n",
        "    def fuel(self):\n",
        "      print(\"This car uses electricity\")\n",
        "\n",
        "BMW = Tcar()\n",
        "TSLA = Ecar()\n",
        "\n",
        "BMW.drive()\n",
        "BMW.fuel()"
      ],
      "metadata": {
        "id": "RAxavv3whB9y"
      },
      "execution_count": null,
      "outputs": []
    },
    {
      "cell_type": "markdown",
      "source": [
        "## 方法覆寫(Method Overriding)\n",
        "  * 子類別的物件(Object)調用同名方法時，其內容將覆蓋掉主類別的同名方法。\n",
        "  * `super()`，用於在子類別中調用主類別方法。"
      ],
      "metadata": {
        "id": "94qIZ_5G_FSO"
      }
    },
    {
      "cell_type": "code",
      "source": [
        "# 交通工具(基底類別)\n",
        "class Transportation:\n",
        "    # 駕駛方法\n",
        "    def drive(self):\n",
        "      print(\"First class\")\n",
        "\n",
        "# 汽車子類別\n",
        "class Car(Transportation):\n",
        "    # 駕駛方法\n",
        "    def drive(self):\n",
        "      super().drive() #調用主類別方法\n",
        "      print(\"Second class\")\n",
        "\n",
        "BMW = Car()\n",
        "BMW.drive()   # 因有super()，故同時輸出主類別 + 子類別 drive方法"
      ],
      "metadata": {
        "id": "53QDhg_M_RGa"
      },
      "execution_count": null,
      "outputs": []
    }
  ]
}