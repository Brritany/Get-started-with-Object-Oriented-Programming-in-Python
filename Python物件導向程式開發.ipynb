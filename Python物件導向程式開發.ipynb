{
  "nbformat": 4,
  "nbformat_minor": 0,
  "metadata": {
    "colab": {
      "name": "Python物件導向程式開發",
      "provenance": [],
      "toc_visible": true,
      "authorship_tag": "ABX9TyPy3FI2Xfcu+XBTOMvIoEL1",
      "include_colab_link": true
    },
    "kernelspec": {
      "name": "python3",
      "display_name": "Python 3"
    },
    "language_info": {
      "name": "python"
    }
  },
  "cells": [
    {
      "cell_type": "markdown",
      "metadata": {
        "id": "view-in-github",
        "colab_type": "text"
      },
      "source": [
        "<a href=\"https://colab.research.google.com/github/Brritany/Get-started-with-Object-Oriented-Programming-in-Python/blob/main/Python%E7%89%A9%E4%BB%B6%E5%B0%8E%E5%90%91%E7%A8%8B%E5%BC%8F%E9%96%8B%E7%99%BC.ipynb\" target=\"_parent\"><img src=\"https://colab.research.google.com/assets/colab-badge.svg\" alt=\"Open In Colab\"/></a>"
      ]
    },
    {
      "cell_type": "markdown",
      "source": [
        "# Get-started-with-Object-Oriented-Programming-in-Python\n",
        "___\n",
        "## Author\n",
        "> __Huang, yong-zhen__  \n",
        "lindavid841130@gmail.com  \n",
        "create on August 2022\n",
        "\n",
        "___\n"
      ],
      "metadata": {
        "id": "Z16PYwutFyPi"
      }
    },
    {
      "cell_type": "markdown",
      "source": [
        "# 一、模組(Module)和套件(Package)\n",
        "  1. 模組(Module)\n",
        "    * 一種檔案，內部包含一些使用性較高的代碼，從一些大型程式的代碼塊中，將高頻使用的代碼取出後，建立新的檔案來形成模組(Module)，透過匯入(import)的方式來使用。\n",
        "    * 模組(Module)可以提高程式碼的重用性(Reusable)並且因為代碼量較少，更易於維護。\n",
        "    * 任何一個以 .py為副檔名的python代碼都可視為模組(Module)。\n",
        "  2. 套件(Package)\n",
        "    * 將相似的模組放在同一個資料夾中，即稱為套件(Package)\n",
        "    * 官方文件定義中，任何含有\b__init__.py的資料夾，即可稱為套件(Packeage)。\n",
        "    * 任何Python均可將自己的模塊集合形成套件，甚至可以將優秀/好用的套件上傳到[PyPI](https://pypi.org/)中，供大家使用。\n",
        "    "
      ],
      "metadata": {
        "id": "ZvnK8gsDGZyY"
      }
    },
    {
      "cell_type": "markdown",
      "source": [
        "# 二、import用法\n",
        "  * 用於將**內建模組、第三方模組、自建模組**匯入到程式中來使用。\n",
        "\n",
        "\n",
        "```\n",
        "import 模組名稱\n",
        "\n",
        "模組名稱.函式\n",
        "```\n",
        "\n"
      ],
      "metadata": {
        "id": "qvzhT9keyrlX"
      }
    },
    {
      "cell_type": "code",
      "source": [
        "# 以math為例，內部函式有包括abs, round, ceil, floor...函式\n",
        "\n",
        "import math #即可匯入模組(包函全部函式)\n",
        "\n",
        "a = abs(-123) #abs回傳( )中的「絕對值」\n",
        "print(a)"
      ],
      "metadata": {
        "id": "b9X0zV0Mz2Kj"
      },
      "execution_count": null,
      "outputs": []
    },
    {
      "cell_type": "markdown",
      "source": [
        "## 匯入模組中指定函式：from...import...\n",
        "  * 通常一個模組裡面具有許多函式，若只需要特定某幾個函式則可使用此方法進行匯入。\n",
        "\n",
        "\n",
        "```\n",
        "from 模組名稱 import 模組函式1, 模組函式2...\n",
        "```\n",
        "\n"
      ],
      "metadata": {
        "id": "FD6kTibCzK_w"
      }
    },
    {
      "cell_type": "code",
      "execution_count": null,
      "metadata": {
        "id": "heWkc0tTFuPf"
      },
      "outputs": [],
      "source": [
        "from math import ceil, floor\n",
        "\n",
        "# abs \n",
        "# 回傳( )中的「絕對值」\n",
        "a = abs(-3.14159) \n",
        "\n",
        "# round(x, y)\n",
        "# 回傳四捨五入後的x值，y為四捨五入後的小數點數，若未輸入y，則默認四捨五入後的只保留整數值。\n",
        "b = round(3.14159)\n",
        "c = round(3.14159,3)\n",
        "\n",
        "# ceil\n",
        "# 無條件進位\n",
        "d = ceil(3.14159)\n",
        "\n",
        "# floor\n",
        "# 無條件捨去\n",
        "e = floor(3.14159)\n",
        "\n",
        "print(\"a=\",a) #絕對值\n",
        "print(\"b=\",b) #四捨五入後只取整數\n",
        "print(\"c=\",c) #四捨五入後取整數+所要求之小數點數\n",
        "print(\"d=\",d) #無條件進位\n",
        "print(\"e=\",e) #無條件捨去"
      ]
    },
    {
      "cell_type": "markdown",
      "source": [
        "## 模組別名的使用：as\n",
        "  * 常用於一些模組名稱過長，導致後續程式引用不方便。\n",
        "\n",
        "\n",
        "```\n",
        "import 模組名稱 as 自訂別名\n",
        "```\n",
        "\n"
      ],
      "metadata": {
        "id": "DiRLCv0WB-Uf"
      }
    },
    {
      "cell_type": "code",
      "source": [
        "import math as m\n",
        "\n",
        "m.ceil(3.4578) #使用自訂別名m調用ceil函式"
      ],
      "metadata": {
        "id": "6bD1J3_kCb0K"
      },
      "execution_count": null,
      "outputs": []
    },
    {
      "cell_type": "markdown",
      "source": [
        "# 三、介紹亂數模組：random\n",
        "\n",
        "\n",
        "```\n",
        "import random as r\n",
        "\n",
        "# random()，從0-1之間隨機取一浮點數(float)\n",
        "r.random()\n",
        "\n",
        "# randint(n1,n2)，從n1-n2之間隨機取一整數(int)\n",
        "r.randint(1,100)\n",
        "\n",
        "# randrange(n1,n2,n3)，從n1-n之間，每隔n3的數隨機取一整數(int)\n",
        "r.randrange(1,100,2)\n",
        "\n",
        "# uniform(f1,f2)，從f1-f2之間隨機取一浮點數(float)\n",
        "r.uniform(1,2)\n",
        "\n",
        "# choice(字串)，從字串中隨機取一字符\n",
        "r.choice(apple)\n",
        "\n",
        "# sample(字串,n)，從字串中隨機取n個字符\n",
        "r.sample(apple,2)\n",
        "\n",
        "# shuffle(串列)，將串列隨機排列\n",
        "list = [20, 113, 35, 1]\n",
        "r.shuffle(list)\n",
        "print('隨機後結果：', list)\n",
        "\n",
        "```\n",
        "\n"
      ],
      "metadata": {
        "id": "HRkveciBEDGB"
      }
    },
    {
      "cell_type": "markdown",
      "source": [
        "### 習題1 終極密碼\n",
        "  * 使用random模塊，設計1-100的亂數，使用者自行輸入數字進行猜題，每次猜題後系統需提供猜測值太大或太小，使用者猜中數字則程式結束，反之則繼續，直到猜中為止，猜題結束後輸出使用者猜題次數。"
      ],
      "metadata": {
        "id": "RpCrkgqwEJ1y"
      }
    },
    {
      "cell_type": "code",
      "source": [
        "import random # 匯入random模塊\n",
        "num = random.randint(1,100) #設定亂數產生之範圍，1-100\n",
        "print(num) #偷看一下正確答案，可用 # 隱藏答案\n",
        "\n",
        "count = 1 #記數(計算猜題次數)\n",
        "while True: #不管怎們樣都成立，使用break來跳出無限迴圈\n",
        "  print(\"第\",count,\"次猜測\") #猜題次數\n",
        "  guess = input('終極密碼0到100請猜數字: ') #讓使用者自行輸入數字，並給予輸入方式\n",
        "\n",
        "# try, except用法，用於排除使用者輸入非數字時的報錯\n",
        "  try:\n",
        "    guess = int(guess)\n",
        "  except:\n",
        "    print(\"輸入錯誤，請輸入數字\")\n",
        "    continue\n",
        "\n",
        "# 透過if, elif, else，使其對猜題時範圍做出提示\n",
        "  if guess == num:\n",
        "    print('猜題次數',count, '次', \"恭喜答對!! 數字的確是 \",num)\n",
        "    break\n",
        "  elif 0 < guess < num:\n",
        "    print(\"猜錯囉，你猜的太小了\")\n",
        "  elif 100 > guess > num:\n",
        "    print(\"猜錯囉，你猜的太大了\")\n",
        "  else:\n",
        "    print(\"數字超出範圍\")\n",
        "  count = count + 1 #count值做累加"
      ],
      "metadata": {
        "colab": {
          "base_uri": "https://localhost:8080/"
        },
        "id": "zRWg7BurEOXF",
        "outputId": "e2131610-cecf-4cc6-c86f-1c96bc7cb503"
      },
      "execution_count": 24,
      "outputs": [
        {
          "output_type": "stream",
          "name": "stdout",
          "text": [
            "17\n",
            "第 1 次猜測\n",
            "終極密碼0到100請猜數字: 17\n",
            "猜題次數 1 次 恭喜答對!! 數字的確是  17\n"
          ]
        }
      ]
    }
  ]
}