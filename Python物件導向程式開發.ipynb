{
  "nbformat": 4,
  "nbformat_minor": 0,
  "metadata": {
    "colab": {
      "name": "Python物件導向程式開發.ipynb",
      "provenance": [],
      "authorship_tag": "ABX9TyOvcVAsWwYgaTGGvn6hCxul",
      "include_colab_link": true
    },
    "kernelspec": {
      "name": "python3",
      "display_name": "Python 3"
    },
    "language_info": {
      "name": "python"
    }
  },
  "cells": [
    {
      "cell_type": "markdown",
      "metadata": {
        "id": "view-in-github",
        "colab_type": "text"
      },
      "source": [
        "<a href=\"https://colab.research.google.com/github/Brritany/Get-started-with-Object-Oriented-Programming-in-Python/blob/main/Python%E7%89%A9%E4%BB%B6%E5%B0%8E%E5%90%91%E7%A8%8B%E5%BC%8F%E9%96%8B%E7%99%BC.ipynb\" target=\"_parent\"><img src=\"https://colab.research.google.com/assets/colab-badge.svg\" alt=\"Open In Colab\"/></a>"
      ]
    },
    {
      "cell_type": "markdown",
      "source": [
        "# Python物件導向程式開發\n",
        "# Get-started-with-Object-Oriented-Programming-in-Python\n",
        "___\n",
        "## Author\n",
        "> __Yong-Zhen, Huang__  \n",
        "lindavid841130@gmail.com  \n",
        "create on July 2022\n",
        "\n",
        "___\n"
      ],
      "metadata": {
        "id": "G13mbAhclqwE"
      }
    },
    {
      "cell_type": "markdown",
      "source": [
        "# 一、物件和類別\n",
        "  1. 類別(Class)\n",
        "    * `class 自定義名稱():`\n",
        "    * 命名原則：每個單字字首大寫，不可使用空白或底線分隔單字。\n",
        "  2. 物件(Object)\n",
        "    * 透過類別(Class)實際建立的物件(Object)。\n",
        "  3. 屬性(Attribute)\n",
        "    * 負責存放物件(Object)的資料。\n",
        "    * `object_name.attribute_name = value`\n",
        "  4. 建構式(Constructor)\n",
        "    * `__int__`，無論前方有多少程式碼,一律先執行建構式。\n",
        "    * 至少要有一個self參數，之後利用逗號區隔其他屬性。\n",
        "    * self = 物件本身\n",
        "  5. 方法(Method)\n",
        "    * `def method_name(self):`\n",
        "  \n"
      ],
      "metadata": {
        "id": "1hvhpFVtlikp"
      }
    },
    {
      "cell_type": "markdown",
      "source": [
        "## 範例\n",
        "  * 類別(Class) & 物件(Object) & 屬性(Attribute) & 建構式(Constructor) & 方法(Method)\n",
        "  * 使用`isinstance`來判斷類別(Class)與物件(Object)的關係"
      ],
      "metadata": {
        "id": "7rmIUXeFyG2r"
      }
    },
    {
      "cell_type": "code",
      "source": [
        "# 建立類別(Class)\n",
        "class Electriccar:\n",
        "  def __init__(self, price, fuel):\n",
        "        # 建立物件屬性(Attribute)\n",
        "        self.price = price  # 屬性_價錢\n",
        "        self.fuel = fuel   # 屬性_燃料\n",
        "  # 方法(Method)\n",
        "  def drive(self):\n",
        "        print(\"This car uses an {} as fuel, and the price is {} New Taiwan dollars\".format(self.fuel, self.price))\n",
        "\n",
        "class Traditionalcars():\n",
        "  def __init__(self, price, fuel):\n",
        "        self.price = price\n",
        "        self.fuel = fuel\n",
        "  def drive(self):\n",
        "        print(\"This car uses an {} as fuel, and the price is {} New Taiwan dollars\".format(self.fuel, self.price))\n",
        "\n",
        "# 建立物件(Object)與代入物件屬性(Attribute)\n",
        "BMW_F40 = Traditionalcars(1610000, \"gasoline\")\n",
        "TSLA_model3 = Electriccar(2500000, \"electricity\")\n",
        "\n",
        "BMW_F40.drive()   # This car uses an gasoline as fuel, and the price is 1610000 New Taiwan dollars\n",
        "TSLA_model3.drive() # This car uses an electricity as fuel, and the price is 2500000 New Taiwan dollars\n",
        "\n",
        "# isinstance可用於判斷類別(Class)與物件(Object)的關係\n",
        "print(isinstance(BMW_F40, Traditionalcars))     # True\n",
        "print(isinstance(BMW_F40, Electriccar))       # False"
      ],
      "metadata": {
        "id": "ykEQ76hpymR1"
      },
      "execution_count": null,
      "outputs": []
    }
  ]
}